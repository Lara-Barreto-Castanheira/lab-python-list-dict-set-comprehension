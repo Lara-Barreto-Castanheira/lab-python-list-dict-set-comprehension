{
 "cells": [
  {
   "cell_type": "markdown",
   "id": "25d7736c-ba17-4aff-b6bb-66eba20fbf4e",
   "metadata": {},
   "source": [
    "# Lab | List, Dict and Set Comprehension"
   ]
  },
  {
   "cell_type": "markdown",
   "id": "7dd3cbde-675a-4b81-92c3-f728846dbe06",
   "metadata": {},
   "source": [
    "## Exercise: Managing Customer Orders Optimized with Comprehension"
   ]
  },
  {
   "cell_type": "markdown",
   "id": "5d500160-2fb7-4777-b5e4-09d45ebaf328",
   "metadata": {},
   "source": [
    "In the previous exercise, you developed a program to manage customer orders and inventory. Now, let's take it a step further and incorporate comprehension into your code.\n",
    "\n",
    "Follow the steps below to complete the exercise:\n",
    "\n",
    "1. Review your code from the previous exercise and identify areas where you can apply comprehension to simplify and streamline your code. \n",
    "\n",
    "    - *Hint: Apply it to initialize inventory, updating the inventory and printing the updated inventory.*\n",
    "    \n",
    "    - For example, in initializing the inventory, we could have:\n",
    "    \n",
    "        ```python\n",
    "        def initialize_inventory(products):\n",
    "            inventory = {product: int(input(f\"Enter the quantity of {product}s available: \")) for product in products}\n",
    "            return inventory\n",
    "\n",
    "        ```\n",
    "<br>\n",
    "    \n",
    "    \n",
    "2. Modify the function get_customer_orders so it prompts the user to enter the number of customer orders and gathers the product names using a loop and user input. Use comprehension.\n",
    "\n",
    "3. Add a new function to calculate the total price of the customer order. For each product in customer_orders, prompt the user to enter the price of that product. Use comprehension to calculate the total price. Note: assume that the user can only have 1 unit of each product.\n",
    "\n",
    "4. Modify the update_inventory function to remove the product from the inventory if its quantity becomes zero after fulfilling the customer orders. Use comprehension to filter out the products with a quantity of zero from the inventory.\n",
    "\n",
    "5. Print the total price of the customer order.\n",
    "\n",
    "Your code should produce output similar to the following:\n",
    "\n",
    "```python\n",
    "Enter the quantity of t-shirts available:  5\n",
    "Enter the quantity of mugs available:  4\n",
    "Enter the quantity of hats available:  3\n",
    "Enter the quantity of books available:  2\n",
    "Enter the quantity of keychains available:  1\n",
    "Enter the number of customer orders:  2\n",
    "Enter the name of a product that a customer wants to order:  hat\n",
    "Enter the name of a product that a customer wants to order:  keychain\n",
    "\n",
    "Order Statistics:\n",
    "Total Products Ordered: 2\n",
    "Percentage of Unique Products Ordered: 40.0\n",
    "\n",
    "Updated Inventory:\n",
    "t-shirt: 5\n",
    "mug: 4\n",
    "hat: 2\n",
    "book: 2\n",
    "Enter the price of keychain:  5\n",
    "Enter the price of hat:  10\n",
    "Total Price: 15.0\n",
    "\n",
    "```\n"
   ]
  },
  {
   "cell_type": "code",
   "execution_count": 38,
   "id": "7e856d1c",
   "metadata": {},
   "outputs": [],
   "source": [
    "products = [\"t-shirt\", \"mug\", \"hat\", \"book\", \"keychain\"]"
   ]
  },
  {
   "cell_type": "code",
   "execution_count": 39,
   "id": "b1d5c164",
   "metadata": {},
   "outputs": [
    {
     "name": "stdout",
     "output_type": "stream",
     "text": [
      "Enter the quantity of t-shirts available: 5\n",
      "Enter the quantity of mugs available: 5\n",
      "Enter the quantity of hats available: 5\n",
      "Enter the quantity of books available: 5\n",
      "Enter the quantity of keychains available: 5\n"
     ]
    }
   ],
   "source": [
    "def initialize_inventory(products):\n",
    "    inventory = {product: int(input(f\"Enter the quantity of {product}s available: \")) for product in products}\n",
    "    return inventory\n",
    "\n",
    "inventory = initialize_inventory(products)"
   ]
  },
  {
   "cell_type": "code",
   "execution_count": 40,
   "id": "51109c21",
   "metadata": {},
   "outputs": [
    {
     "name": "stdout",
     "output_type": "stream",
     "text": [
      "Enter the number of customer orders:2\n",
      "Enter the name of a product that a customer wants to order:hat\n",
      "Enter the name of a product that a customer wants to order:mug\n"
     ]
    },
    {
     "data": {
      "text/plain": [
       "{'hat', 'mug'}"
      ]
     },
     "execution_count": 40,
     "metadata": {},
     "output_type": "execute_result"
    }
   ],
   "source": [
    "def get_customer_orders():\n",
    "    num_orders = int(input(\"Enter the number of customer orders:\"))\n",
    "    orders = {input(\"Enter the name of a product that a customer wants to order:\") for i in range(num_orders)}\n",
    "    return orders\n",
    "\n",
    "get_customer_orders()"
   ]
  },
  {
   "cell_type": "code",
   "execution_count": 41,
   "id": "cbca32c7",
   "metadata": {},
   "outputs": [
    {
     "name": "stdout",
     "output_type": "stream",
     "text": [
      "Enter the quantity of t-shirts available: 5\n",
      "Enter the quantity of mugs available: 4\n",
      "Enter the quantity of hats available: 4\n",
      "Enter the quantity of books available: 5\n",
      "Enter the quantity of keychains available: 5\n",
      "Enter the number of customer orders:3\n",
      "Enter the name of a product that a customer wants to order:hat\n",
      "Enter the name of a product that a customer wants to order:book\n",
      "Enter the name of a product that a customer wants to order:t-shirt\n"
     ]
    },
    {
     "data": {
      "text/plain": [
       "{'t-shirt': 4, 'mug': 4, 'hat': 3, 'book': 4, 'keychain': 5}"
      ]
     },
     "execution_count": 41,
     "metadata": {},
     "output_type": "execute_result"
    }
   ],
   "source": [
    "def update_inventory (customer_orders, inventory):\n",
    "    update_inventory = {product: inventory[product] -1 if product in customer_orders else inventory [product] for product in inventory}\n",
    "    update_inventory = {product: quantity for product, quantity in update_inventory.items() if quantity > 0}\n",
    "    return update_inventory\n",
    "\n",
    "my_inventory = initialize_inventory(products)\n",
    "my_customer_order = get_customer_orders()\n",
    "\n",
    "update_inventory(my_customer_order, my_inventory)"
   ]
  },
  {
   "cell_type": "code",
   "execution_count": 42,
   "id": "52aefe67",
   "metadata": {},
   "outputs": [
    {
     "data": {
      "text/plain": [
       "60.0"
      ]
     },
     "execution_count": 42,
     "metadata": {},
     "output_type": "execute_result"
    }
   ],
   "source": [
    "total_products_ordered = len(my_customer_order)\n",
    "\n",
    "def calculate_order_statistics(customer_orders, products):\n",
    "    percentage_prodcuts_odered = (total_products_ordered / len(products)) * 100\n",
    "    return percentage_prodcuts_odered\n",
    "\n",
    "calculate_order_statistics(my_customer_order, products)"
   ]
  },
  {
   "cell_type": "code",
   "execution_count": 43,
   "id": "805ca565",
   "metadata": {},
   "outputs": [
    {
     "name": "stdout",
     "output_type": "stream",
     "text": [
      "Order statistics:\n",
      "Total products ordered: 3\n",
      "Percentage of unique products ordered: 60.0\n"
     ]
    }
   ],
   "source": [
    "total_products_ordered = len(my_customer_order) \n",
    "percentage_prodcuts_odered = (total_products_ordered / len(products)) * 100\n",
    "\n",
    "order_statistics = { \"Total products ordered\": total_products_ordered, \"Percentage of unique products ordered\": percentage_prodcuts_odered }\n",
    "\n",
    "def print_order_statistics(order_statistics): \n",
    "    print(\"Order statistics:\") \n",
    "    [print(f\"{key}: {value}\") for key, value in order_statistics.items()]\n",
    "\n",
    "print_order_statistics(order_statistics)"
   ]
  },
  {
   "cell_type": "code",
   "execution_count": 44,
   "id": "cef6789a",
   "metadata": {},
   "outputs": [
    {
     "name": "stdout",
     "output_type": "stream",
     "text": [
      "Updated Inventory:\n",
      "t-shirt: 5\n",
      "mug: 5\n",
      "hat: 5\n",
      "book: 5\n",
      "keychain: 5\n"
     ]
    }
   ],
   "source": [
    "def print_updated_inventory(inventory):\n",
    "    print(\"Updated Inventory:\")\n",
    "    updated_inventory = {product: quantity for product, quantity in inventory.items()}\n",
    "    \n",
    "    for product, quantity in updated_inventory.items():\n",
    "        print(f\"{product}: {quantity}\")\n",
    "\n",
    "print_updated_inventory(inventory)"
   ]
  },
  {
   "cell_type": "code",
   "execution_count": 45,
   "id": "d083d8ac",
   "metadata": {},
   "outputs": [
    {
     "name": "stdout",
     "output_type": "stream",
     "text": [
      "Enter the price of book: 5\n",
      "Enter the price of hat: 5\n",
      "Enter the price of t-shirt: 7\n"
     ]
    },
    {
     "data": {
      "text/plain": [
       "17"
      ]
     },
     "execution_count": 45,
     "metadata": {},
     "output_type": "execute_result"
    }
   ],
   "source": [
    "def calculate_total_price(customer_orders): \n",
    "    total_price = sum([int(input(f\"Enter the price of {product}: \")) for product in customer_orders]) \n",
    "    return total_price\n",
    "\n",
    "calculate_total_price(my_customer_order)"
   ]
  },
  {
   "cell_type": "code",
   "execution_count": null,
   "id": "c349adb0",
   "metadata": {},
   "outputs": [],
   "source": []
  }
 ],
 "metadata": {
  "kernelspec": {
   "display_name": "Python 3 (ipykernel)",
   "language": "python",
   "name": "python3"
  },
  "language_info": {
   "codemirror_mode": {
    "name": "ipython",
    "version": 3
   },
   "file_extension": ".py",
   "mimetype": "text/x-python",
   "name": "python",
   "nbconvert_exporter": "python",
   "pygments_lexer": "ipython3",
   "version": "3.11.5"
  }
 },
 "nbformat": 4,
 "nbformat_minor": 5
}
